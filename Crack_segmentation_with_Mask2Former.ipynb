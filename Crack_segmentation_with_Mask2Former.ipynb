{
  "nbformat": 4,
  "nbformat_minor": 0,
  "metadata": {
    "colab": {
      "provenance": [],
      "gpuType": "T4",
      "authorship_tag": "ABX9TyMqUaSsn/86i+RkvWxmI3V2",
      "include_colab_link": true
    },
    "kernelspec": {
      "name": "python3",
      "display_name": "Python 3"
    },
    "language_info": {
      "name": "python"
    },
    "accelerator": "GPU"
  },
  "cells": [
    {
      "cell_type": "markdown",
      "metadata": {
        "id": "view-in-github",
        "colab_type": "text"
      },
      "source": [
        "<a href=\"https://colab.research.google.com/github/toth235a/cracks/blob/main/Crack_segmentation_with_Mask2Former.ipynb\" target=\"_parent\"><img src=\"https://colab.research.google.com/assets/colab-badge.svg\" alt=\"Open In Colab\"/></a>"
      ]
    },
    {
      "cell_type": "markdown",
      "source": [
        "This is a notebook for recognising cracks using a Mask2Former model trained on public crack segmentation datasets. You can input an internet image or one uploaded to your google drive."
      ],
      "metadata": {
        "id": "0sVHCG53yS-O"
      }
    },
    {
      "cell_type": "markdown",
      "source": [
        "Let's download the model.\n",
        "\n",
        "Before executing this cell, makes sure colab uses a GPU. To do this, **click Runtime > Change Runtime type > T4 GPU > Save**.\n"
      ],
      "metadata": {
        "id": "mDurdRHQeAew"
      }
    },
    {
      "cell_type": "code",
      "execution_count": null,
      "metadata": {
        "id": "_2iTD1MddHvQ"
      },
      "outputs": [],
      "source": [
        "from transformers import Mask2FormerImageProcessor\n",
        "import torch\n",
        "from PIL import Image\n",
        "import matplotlib.pyplot as plt\n",
        "from transformers import Mask2FormerForUniversalSegmentation\n",
        "import requests\n",
        "from io import BytesIO\n",
        "id2label= {0: 'background', 1: 'crack'}\n",
        "model = Mask2FormerForUniversalSegmentation.from_pretrained(\"toth235a/mask2former-swin-large-crack-semantic\",\n",
        "                                                          id2label=id2label,\n",
        "                                                          ignore_mismatched_sizes=True)\n",
        "preprocessor2 = Mask2FormerImageProcessor(ignore_index=255, reduce_labels=False, do_resize=False, do_rescale=False, do_normalize=True)\n",
        "device = torch.device(\"cuda\" if torch.cuda.is_available() else \"cpu\")\n",
        "model.to(device)\n",
        "model.eval()\n",
        "\n"
      ]
    },
    {
      "cell_type": "markdown",
      "source": [
        "Now we download a crack image from the internet and recognise the crack using the model"
      ],
      "metadata": {
        "id": "BneKHuDXeTCZ"
      }
    },
    {
      "cell_type": "code",
      "source": [
        "url = \"https://www.madebybarb.com/wp-content/uploads/2022/11/Concrete-Basics-FAQs-Why-did-it-crack-madebybarb-feature.jpg\"\n",
        "headers = {'User-Agent': 'Mozilla/5.0 (Windows NT 10.0; Win64; x64) AppleWebKit/537.36 (KHTML, like Gecko) Chrome/58.0.3029.110 Safari/537.3'}\n",
        "\n",
        "\n",
        "response = requests.get(url, headers=headers)\n",
        "img = BytesIO(response.content)\n",
        "\n",
        "crack_image = Image.open(img)\n",
        "inputs = preprocessor2(crack_image, return_tensors=\"pt\")\n",
        "pixel_values = inputs[\"pixel_values\"]\n",
        "with torch.no_grad():\n",
        "    outputs = model(pixel_values=pixel_values.to(device))\n",
        "predicted_segmentation_maps = preprocessor2.post_process_semantic_segmentation(outputs)\n",
        "segmentation_map = predicted_segmentation_maps[0].cpu()\n",
        "plt.imshow(segmentation_map, cmap='gray')\n",
        "plt.axis('off')\n",
        "plt.show()"
      ],
      "metadata": {
        "colab": {
          "base_uri": "https://localhost:8080/",
          "height": 406
        },
        "id": "GyGcmiePdWDD",
        "outputId": "91578fb3-8000-4f59-bce6-482cb9c79080"
      },
      "execution_count": 4,
      "outputs": [
        {
          "output_type": "display_data",
          "data": {
            "text/plain": [
              "<Figure size 640x480 with 1 Axes>"
            ],
            "image/png": "[encoded data removed]"
          },
          "metadata": {}
        }
      ]
    },
    {
      "cell_type": "code",
      "source": [],
      "metadata": {
        "id": "NygA1GdQd82x"
      },
      "execution_count": null,
      "outputs": []
    },
    {
      "cell_type": "markdown",
      "source": [],
      "metadata": {
        "id": "ks6BGn5Cd_F6"
      }
    }
  ]
}